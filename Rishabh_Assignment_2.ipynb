{
 "cells": [
  {
   "cell_type": "markdown",
   "metadata": {},
   "source": [
    "# Rishabh Agrawal\n",
    "# Assignment 2"
   ]
  },
  {
   "cell_type": "markdown",
   "metadata": {},
   "source": [
    "# Libraries"
   ]
  },
  {
   "cell_type": "code",
   "execution_count": 1,
   "metadata": {},
   "outputs": [],
   "source": [
    "import pandas as pd\n",
    "import numpy as np\n",
    "import random\n",
    "import matplotlib.pyplot as plt\n",
    "import math\n",
    "from sklearn.utils import shuffle\n",
    "import sklearn.linear_model as Lm\n",
    "from sklearn.linear_model import LinearRegression as Lr\n",
    "from sklearn.metrics import mean_squared_error\n",
    "from math import sqrt\n",
    "import seaborn as sns\n",
    "from sklearn.linear_model import LogisticRegression\n",
    "import pycountry_convert as pc"
   ]
  },
  {
   "cell_type": "markdown",
   "metadata": {},
   "source": [
    "# Problem 1"
   ]
  },
  {
   "cell_type": "markdown",
   "metadata": {},
   "source": [
    "Rishabh Agrawal\n",
    "Viral Patel\n",
    "Rutu Nanavati\n",
    "\n",
    "We are continuing with the same project for Phase 2."
   ]
  },
  {
   "cell_type": "markdown",
   "metadata": {},
   "source": [
    "# Problem 2"
   ]
  },
  {
   "cell_type": "markdown",
   "metadata": {},
   "source": [
    "For this problem i choose to critique the visulation done in this repository : https://github.com/mrinaaall/DS-5500/blob/master/InfoVizHW1.pdf\n",
    "\n",
    "In his plot he chose to visuailize the plot Average Continents GDP for every year using a line plot. He decided to do this only for the top 4 continents rather than all the 6 continents. \n",
    "His visualization is very easy to interpret and it can be clearly seen as he mentioned in the explanation that europe has the highest GDP whereas africa has the lowest. He also states that there is a sudden jump in GDP of asia somewhere in between 2000's.\n",
    "His plot is the same as mine, but as i chose to make the plot for all the 6 continents it comes out that growth in GDP of africa and Australia are similar which his plot failed to capture and we both came to the same conclusion that africa has the lowest growth from them all.\n",
    "But he did cover the fact that America had a sudden dip around 2010-2015 which did not show up in my findings"
   ]
  },
  {
   "cell_type": "markdown",
   "metadata": {},
   "source": [
    "# Problem 3"
   ]
  },
  {
   "cell_type": "markdown",
   "metadata": {},
   "source": [
    "For this problem I choose to critique the following repository: https://github.com/bishishta/Information-Visualization/tree/master/DS5500_HW1\n",
    "        \n",
    "He has made several different plots in order to visualise the said problem. He made a plot of all 3 with time just to see the general trend of the said parameters. He made  a different plot for each of the continents separately. He got the conclusion that mainly for all the continents the GDP and life expectancy increased while with the decrease of child mortality rate overtime. \n",
    "\n",
    "He also chose to plot 4 continents instead of all the 6. We see for the life expectancy that they dip on mainly two points in time i.e. mainly around the time of 1920's and 1940's. He also concluded that mainly around 1925, Asia had the lowest life expectancy, after that Africa has the lowest life expectancy. Europe has the highest life expectancy according to him which goes in line with my findings too.\n",
    "\n",
    "For child mortality he also chose a line plot and his plot is way to similar to mine and he has the same conclusions as me which are the the rate has decreased from 1800 to present tremendously, Europe has the lowest rate throughout time and Asia had the highest child mortality in the early 1800’s, closely followed by Africa but run current times Africa has taken over Asia in terms of child mortality rate. So majority of our conclusions are the same."
   ]
  },
  {
   "cell_type": "markdown",
   "metadata": {},
   "source": [
    "# Problem 4"
   ]
  },
  {
   "cell_type": "code",
   "execution_count": null,
   "metadata": {},
   "outputs": [],
   "source": []
  },
  {
   "cell_type": "code",
   "execution_count": null,
   "metadata": {},
   "outputs": [],
   "source": []
  },
  {
   "cell_type": "markdown",
   "metadata": {},
   "source": [
    "# Problem 5"
   ]
  },
  {
   "cell_type": "code",
   "execution_count": null,
   "metadata": {},
   "outputs": [],
   "source": []
  },
  {
   "cell_type": "code",
   "execution_count": null,
   "metadata": {},
   "outputs": [],
   "source": []
  }
 ],
 "metadata": {
  "kernelspec": {
   "display_name": "Python 3",
   "language": "python",
   "name": "python3"
  },
  "language_info": {
   "codemirror_mode": {
    "name": "ipython",
    "version": 3
   },
   "file_extension": ".py",
   "mimetype": "text/x-python",
   "name": "python",
   "nbconvert_exporter": "python",
   "pygments_lexer": "ipython3",
   "version": "3.7.1"
  }
 },
 "nbformat": 4,
 "nbformat_minor": 2
}
